{
 "cells": [
  {
   "cell_type": "code",
   "execution_count": 1,
   "metadata": {
    "collapsed": true
   },
   "outputs": [],
   "source": [
    "from wallpaper_tools import *\n",
    "\n",
    "import yaml \n",
    "import io\n",
    "\n",
    "def number(list_of_things):\n",
    "    return [f\"{1+i}. {item_in_list}\" for i, item_in_list in enumerate(list_of_things)]"
   ]
  },
  {
   "cell_type": "code",
   "execution_count": 2,
   "metadata": {},
   "outputs": [
    {
     "name": "stdout",
     "output_type": "stream",
     "text": [
      "1\n"
     ]
    }
   ],
   "source": [
    "\n",
    "drive = \"c:\\\\\"\n",
    "folder = \"Users\\\\xzack\\\\Projects\\\\zl\\\\wallpapers\"\n",
    "image = \"joanna-kosinska-289519-unsplash.jpg\"\n",
    "image_path = os.path.join(drive, folder, image)\n",
    "img = Image.open(image_path)\n",
    "\n",
    "drive=\"c:\\\\\"\n",
    "folder=\"Users\\\\xzack\\\\Projects\\\\zl\"\n",
    "fontfile = \"Inconsolata.otf\"\n",
    "fontsize = 72\n",
    "fontpath = os.path.join(drive, folder, fontfile)\n",
    "font = ImageFont.truetype(fontpath, fontsize)\n",
    "\n",
    "boxwidth = 1400\n",
    "boxheight = 800\n",
    "origin_x = 3000\n",
    "origin_y = 500\n",
    "margin = 50\n",
    "\n",
    "with open(\"data.yaml\", 'r') as stream:\n",
    "    current = yaml.load(stream)\n",
    "\n",
    "topleft = Textbox(x=origin_x, y=origin_y, \n",
    "                  w=boxwidth, h=boxheight, \n",
    "                  fontsize=72, font=font)\n",
    "boxtext = \"\\n\".join(number(current[\"urgent + critical\"]))\n",
    "img = topleft.draw(img, text=boxtext, \n",
    "                  toptext=\"urgent\", lefttext=\"critical\")\n",
    "\n",
    "topright = Textbox(x=origin_x+boxwidth+margin, y=origin_y, \n",
    "                   w=boxwidth, h=boxheight, \n",
    "                   fontsize=72, font=font)\n",
    "boxtext = \"\\n\".join(number(current[\"not urgent + critical\"]))\n",
    "img = topright.draw(img, text=boxtext, toptext=\"not urgent\")\n",
    "\n",
    "bottomleft = Textbox(x=origin_x, y=origin_y+boxheight+margin, \n",
    "                   w=boxwidth, h=boxheight, \n",
    "                   fontsize=72, font=font)\n",
    "boxtext = \"\\n\".join(number(current[\"urgent + not critical\"]))\n",
    "img = bottomleft.draw(img, text=boxtext, lefttext=\"critical\")\n",
    "\n",
    "\n",
    "bottomright = Textbox(x=origin_x+boxwidth+margin, y=origin_y+boxheight+margin, \n",
    "                   w=boxwidth, h=boxheight, \n",
    "                   fontsize=72, font=font)\n",
    "boxtext = \"\\n\".join(number(current[\"not urgent + not critical\"]))\n",
    "img = bottomright.draw(img, text=boxtext)\n",
    "\n",
    "img.save('sample-out.jpg')\n",
    "# image = \"sample-out.jpg\"#\"joanna-kosinska-289519-unsplash.jpg\"\n",
    "set_background('sample-out.jpg')"
   ]
  },
  {
   "cell_type": "code",
   "execution_count": null,
   "metadata": {},
   "outputs": [],
   "source": []
  },
  {
   "cell_type": "code",
   "execution_count": 4,
   "metadata": {
    "collapsed": true
   },
   "outputs": [],
   "source": [
    "current = {\"urgent + critical\":[\"go to the bathroom\", \"send Jo some documents\"],\n",
    "           \"not urgent + critical\" : [\"learn QFT [Greiner Ch 1]\", \"eat\"],\n",
    "           \"urgent + not critical\" : [],\n",
    "           \"not urgent + not critical\" : []}\n",
    "\n",
    "import yaml\n",
    "import io\n",
    "\n",
    "with io.open('data.yaml', 'w', encoding='utf8') as outfile:\n",
    "    yaml.dump(current, outfile, default_flow_style=False, allow_unicode=True)"
   ]
  },
  {
   "cell_type": "code",
   "execution_count": null,
   "metadata": {},
   "outputs": [],
   "source": []
  },
  {
   "cell_type": "code",
   "execution_count": null,
   "metadata": {
    "collapsed": true
   },
   "outputs": [],
   "source": []
  }
 ],
 "metadata": {
  "kernelspec": {
   "display_name": "Python 3",
   "language": "python",
   "name": "python3"
  },
  "language_info": {
   "codemirror_mode": {
    "name": "ipython",
    "version": 3
   },
   "file_extension": ".py",
   "mimetype": "text/x-python",
   "name": "python",
   "nbconvert_exporter": "python",
   "pygments_lexer": "ipython3",
   "version": "3.6.3"
  }
 },
 "nbformat": 4,
 "nbformat_minor": 2
}
