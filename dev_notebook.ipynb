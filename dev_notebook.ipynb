{
 "cells": [
  {
   "cell_type": "code",
   "execution_count": 1,
   "metadata": {},
   "outputs": [
    {
     "name": "stdout",
     "output_type": "stream",
     "text": [
      "1\n"
     ]
    }
   ],
   "source": [
    "from wallpaper_tools import *\n",
    "\n",
    "drive = \"c:\\\\\"\n",
    "folder = \"Users\\\\xzack\\\\Projects\\\\zl\\\\wallpapers\"\n",
    "image = \"joanna-kosinska-289519-unsplash.jpg\"\n",
    "image_path = os.path.join(drive, folder, image)\n",
    "img = Image.open(image_path)\n",
    "\n",
    "boxwidth = 1400\n",
    "boxheight = 800\n",
    "origin_x = 3000\n",
    "origin_y = 500\n",
    "margin = 50\n",
    "\n",
    "placeholder = \"1. do the socks and shirts laundry\\n2. do the science\"\n",
    "topleft = Textbox(x=origin_x, y=origin_y, \n",
    "                  w=boxwidth, h=boxheight, \n",
    "                  fontsize=72, fontfile=\"Inconsolata.otf\")\n",
    "img = topleft.draw(img, text=placeholder, \n",
    "                  toptext=\"urgent\", lefttext=\"critical\")\n",
    "\n",
    "topright = Textbox(x=origin_x+boxwidth+margin, y=origin_y, \n",
    "                   w=boxwidth, h=boxheight, \n",
    "                   fontsize=72, fontfile=\"Inconsolata.otf\")\n",
    "img = topright.draw(img, text=placeholder, toptext=\"not urgent\")\n",
    "\n",
    "bottomleft = Textbox(x=origin_x, y=origin_y+boxheight+margin, \n",
    "                   w=boxwidth, h=boxheight, \n",
    "                   fontsize=72, fontfile=\"Inconsolata.otf\")\n",
    "img = bottomleft.draw(img, text=placeholder, lefttext=\"critical\")\n",
    "\n",
    "bottomright = Textbox(x=origin_x+boxwidth+margin, y=origin_y+boxheight+margin, \n",
    "                   w=boxwidth, h=boxheight, \n",
    "                   fontsize=72, fontfile=\"Inconsolata.otf\")\n",
    "img = bottomright.draw(img, text=placeholder)\n",
    "\n",
    "img.save('sample-out.jpg')\n",
    "# image = \"sample-out.jpg\"#\"joanna-kosinska-289519-unsplash.jpg\"\n",
    "set_background('sample-out.jpg')"
   ]
  },
  {
   "cell_type": "code",
   "execution_count": null,
   "metadata": {
    "collapsed": true
   },
   "outputs": [],
   "source": []
  }
 ],
 "metadata": {
  "kernelspec": {
   "display_name": "Python 3",
   "language": "python",
   "name": "python3"
  },
  "language_info": {
   "codemirror_mode": {
    "name": "ipython",
    "version": 3
   },
   "file_extension": ".py",
   "mimetype": "text/x-python",
   "name": "python",
   "nbconvert_exporter": "python",
   "pygments_lexer": "ipython3",
   "version": "3.6.3"
  }
 },
 "nbformat": 4,
 "nbformat_minor": 2
}
