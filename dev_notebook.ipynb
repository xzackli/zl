{
 "cells": [
  {
   "cell_type": "code",
   "execution_count": 1,
   "metadata": {
    "collapsed": true
   },
   "outputs": [],
   "source": [
    "import os\n",
    "import ctypes\n",
    "from ctypes import wintypes\n",
    "\n",
    "def set_background(image):\n",
    "    drive = \"c:\\\\\"\n",
    "    folder = \"Users\\\\xzack\\\\Pictures\"\n",
    "    image_path = os.path.join(drive, folder, image)\n",
    "\n",
    "    SPI_SETDESKWALLPAPER  = 0x0014\n",
    "    SPIF_UPDATEINIFILE    = 0x0001\n",
    "    SPIF_SENDWININICHANGE = 0x0002\n",
    "\n",
    "    user32 = ctypes.WinDLL('user32')\n",
    "    SystemParametersInfo = user32.SystemParametersInfoW\n",
    "    SystemParametersInfo.argtypes = ctypes.c_uint,ctypes.c_uint,ctypes.c_void_p,ctypes.c_uint\n",
    "    SystemParametersInfo.restype = wintypes.BOOL\n",
    "    print(SystemParametersInfo(\n",
    "        SPI_SETDESKWALLPAPER, 0, image_path, \n",
    "        SPIF_UPDATEINIFILE | SPIF_SENDWININICHANGE))"
   ]
  },
  {
   "cell_type": "code",
   "execution_count": 123,
   "metadata": {},
   "outputs": [],
   "source": [
    "from PIL import Image\n",
    "from PIL import ImageFont\n",
    "from PIL import ImageDraw \n",
    "from PIL import ImageOps\n",
    "import numpy as np\n",
    "\n",
    "class pos:\n",
    "    def __init__(self,x,y):\n",
    "        self.x=x\n",
    "        self.y=y\n",
    "\n",
    "        \n",
    "drive = \"c:\\\\\"\n",
    "folder = \"Users\\\\xzack\\\\Pictures\"\n",
    "\n",
    "class Textbox:\n",
    "    \"\"\"\n",
    "    Class for adding text to.\n",
    "    \"\"\"\n",
    "    def __init__(self, x, y, w, h, fontsize, fontfile,\n",
    "                 titlefontsize=144, color=(255,255,255,),\n",
    "                 textpad=40):\n",
    "        self.x, self.y, self.w, self.h = x, y, w, h\n",
    "        self.fontsize, self.fontfile = fontsize, fontfile\n",
    "        self.titlefontsize = titlefontsize\n",
    "        self.color = color\n",
    "        fontpath = os.path.join(drive, folder, fontfile)\n",
    "        self.font = ImageFont.truetype(fontpath, self.fontsize)\n",
    "        self.textpad = textpad\n",
    "        \n",
    "    def draw_outline(self, img_draw, width=4):\n",
    "        draw.line( (self.x, self.y, self.x+self.w, self.y), fill=self.color, width=width )\n",
    "        draw.line( (self.x, self.y, self.x, self.y+self.h), fill=self.color, width=width)\n",
    "        draw.line( (self.x+self.w, self.y, self.x+self.w, self.y+self.h), fill=self.color, width=width)\n",
    "        draw.line( (self.x, self.y+self.h, self.x+self.w, self.y+self.h), fill=self.color, width=width)\n",
    "        \n",
    "    def draw_bg(self, img):\n",
    "        np_img = np.array(img)\n",
    "        np_img[self.y:self.y+self.h,self.x:self.x+self.w] = (0.75 * np_img[self.y:self.y+self.h,self.x:self.x+self.w]).astype(int)\n",
    "        return Image.fromarray(np_img)\n",
    "        \n",
    "    def draw(self, img, text, outline=False, bg=True, toptext=None, lefttext=None):\n",
    "        if outline:\n",
    "            self.draw_outline(draw)\n",
    "        if bg:\n",
    "            img = self.draw_bg(img)\n",
    "            \n",
    "        draw = ImageDraw.Draw(img)\n",
    "        \n",
    "        draw.text((self.x+self.textpad, self.y+self.textpad), text,\n",
    "                  (255,255,255),font=self.font, spacing=int(self.fontsize*0.5))\n",
    "        \n",
    "        if toptext is not None:\n",
    "            w_, h_ = draw.textsize(toptext,self.font)\n",
    "            draw.text((self.x+int(self.w/2 - w_/2), self.y-self.textpad - self.fontsize), toptext,\n",
    "                  (255,255,255),font=self.font)\n",
    "        if lefttext is not None:\n",
    "            w_, h_ = draw.textsize(lefttext,self.font)\n",
    "            draw.text((self.x - w_ - self.textpad, self.y + int(self.h/2 + h_/2)), lefttext,\n",
    "                  (255,255,255),font=self.font)\n",
    "            \n",
    "        \n",
    "        return img"
   ]
  },
  {
   "cell_type": "code",
   "execution_count": 124,
   "metadata": {},
   "outputs": [
    {
     "name": "stdout",
     "output_type": "stream",
     "text": [
      "1\n"
     ]
    }
   ],
   "source": [
    "drive = \"c:\\\\\"\n",
    "folder = \"Users\\\\xzack\\\\Pictures\"\n",
    "image=\"joanna-kosinska-289519-unsplash.jpg\"\n",
    "image_path = os.path.join(drive, folder, image)\n",
    "img = Image.open(image_path)\n",
    "\n",
    "boxwidth = 1400\n",
    "boxheight = 800\n",
    "origin_x = 3000\n",
    "origin_y = 500\n",
    "margin = 50\n",
    "\n",
    "placeholder = \"1. do the socks and shirts laundry\\n2. do the science\"\n",
    "topleft = Textbox(x=origin_x, y=origin_y, \n",
    "                  w=boxwidth, h=boxheight, \n",
    "                  fontsize=72, fontfile=\"Inconsolata.otf\")\n",
    "img = topleft.draw(img, text=placeholder, \n",
    "                  toptext=\"urgent\", sidetext=\"critical\")\n",
    "\n",
    "topright = Textbox(x=origin_x+boxwidth+margin, y=origin_y, \n",
    "                   w=boxwidth, h=boxheight, \n",
    "                   fontsize=72, fontfile=\"Inconsolata.otf\")\n",
    "img = topright.draw(img, text=placeholder, toptext=\"not urgent\")\n",
    "\n",
    "bottomleft = Textbox(x=origin_x, y=origin_y+boxheight+margin, \n",
    "                   w=boxwidth, h=boxheight, \n",
    "                   fontsize=72, fontfile=\"Inconsolata.otf\")\n",
    "img = bottomleft.draw(img, text=placeholder, lefttext=\"critical\")\n",
    "\n",
    "bottomright = Textbox(x=origin_x+boxwidth+margin, y=origin_y+boxheight+margin, \n",
    "                   w=boxwidth, h=boxheight, \n",
    "                   fontsize=72, fontfile=\"Inconsolata.otf\")\n",
    "img = bottomright.draw(img, text=placeholder)\n",
    "\n",
    "img.save('sample-out.jpg')\n",
    "# image = \"sample-out.jpg\"#\"joanna-kosinska-289519-unsplash.jpg\"\n",
    "set_background('sample-out.jpg')"
   ]
  },
  {
   "cell_type": "code",
   "execution_count": null,
   "metadata": {},
   "outputs": [],
   "source": [
    "\n",
    "# o = pos(3000,500)\n",
    "\n",
    "# draw.text((100+o.x, o.y),\"urgent\",\n",
    "#           (255,255,255),font=titlefont)\n",
    "# draw.text((100+o.x + 1400, o.y),\"not urgent\",\n",
    "#           (255,255,255),font=titlefont)\n",
    "\n",
    "# txt=Image.new(mode=\"L\",size=(1000,2*titlefontsize))\n",
    "# d = ImageDraw.Draw(txt)\n",
    "# d.text( (0, 0), \"critical\",  font=titlefont, fill=255)\n",
    "# w=txt.rotate(90,  expand=1)\n",
    "# img.paste( ImageOps.colorize(w, (0,0,0), \n",
    "#                              (255,255,255)), \n",
    "#           (o.x - 2*titlefontsize,o.y+1*titlefontsize),  w)\n",
    "\n",
    "# txt=Image.new(mode=\"L\",size=(2000,2*titlefontsize))\n",
    "# d = ImageDraw.Draw(txt)\n",
    "# d.text( (0, 0), \"not critical\",  font=titlefont, fill=255)\n",
    "# w=txt.rotate(90,  expand=1)\n",
    "# img.paste( ImageOps.colorize(w, (0,0,0), \n",
    "#                              (255,255,255)), \n",
    "#           (o.x - 2*titlefontsize,o.y+4*titlefontsize),  w)\n",
    "\n",
    "\n",
    "# fontfile = \"Inconsolata.otf\"\n",
    "# fontpath = os.path.join(drive, folder, fontfile)\n",
    "\n",
    "# draw = ImageDraw.Draw(img)\n",
    "# fontsize = 84\n",
    "# font = ImageFont.truetype(fontpath, fontsize)\n",
    "\n",
    "# draw.text((o.x, 300+o.y),\"1. research dark matter\",\n",
    "#           (255,255,255),font=font)\n",
    "\n"
   ]
  },
  {
   "cell_type": "code",
   "execution_count": 23,
   "metadata": {},
   "outputs": [
    {
     "data": {
      "text/plain": [
       "2"
      ]
     },
     "execution_count": 23,
     "metadata": {},
     "output_type": "execute_result"
    }
   ],
   "source": []
  },
  {
   "cell_type": "code",
   "execution_count": null,
   "metadata": {
    "collapsed": true
   },
   "outputs": [],
   "source": []
  },
  {
   "cell_type": "code",
   "execution_count": null,
   "metadata": {
    "collapsed": true
   },
   "outputs": [],
   "source": []
  }
 ],
 "metadata": {
  "kernelspec": {
   "display_name": "Python 3",
   "language": "python",
   "name": "python3"
  },
  "language_info": {
   "codemirror_mode": {
    "name": "ipython",
    "version": 3
   },
   "file_extension": ".py",
   "mimetype": "text/x-python",
   "name": "python",
   "nbconvert_exporter": "python",
   "pygments_lexer": "ipython3",
   "version": "3.6.3"
  }
 },
 "nbformat": 4,
 "nbformat_minor": 2
}
